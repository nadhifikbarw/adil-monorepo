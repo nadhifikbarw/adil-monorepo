{
  "nbformat": 4,
  "nbformat_minor": 0,
  "metadata": {
    "colab": {
      "name": "Adil HTML Generator",
      "provenance": [],
      "collapsed_sections": [],
      "toc_visible": true
    },
    "kernelspec": {
      "name": "python3",
      "display_name": "Python 3"
    },
    "language_info": {
      "name": "python"
    }
  },
  "cells": [
    {
      "cell_type": "markdown",
      "metadata": {
        "id": "mmHPiw20G2oY"
      },
      "source": [
        "# Adil HTML Generation"
      ]
    },
    {
      "cell_type": "markdown",
      "metadata": {
        "id": "H_rUQEjJG70y"
      },
      "source": [
        "## Download Model From GCP"
      ]
    },
    {
      "cell_type": "code",
      "metadata": {
        "id": "M1GE0O2dIF95",
        "colab": {
          "base_uri": "https://localhost:8080/",
          "height": 837
        },
        "outputId": "6ff79073-5890-4e9a-96fb-ec385365d6e2"
      },
      "source": [
        "!pip install --upgrade google-cloud-storage"
      ],
      "execution_count": null,
      "outputs": [
        {
          "output_type": "stream",
          "text": [
            "Collecting google-cloud-storage\n",
            "\u001b[?25l  Downloading https://files.pythonhosted.org/packages/12/75/78ed0d1ef691592b94e7a3d9f58153298166486342a97df82d3c5b66cc16/google_cloud_storage-1.38.0-py2.py3-none-any.whl (103kB)\n",
            "\u001b[K     |████████████████████████████████| 112kB 3.9MB/s \n",
            "\u001b[?25hCollecting google-resumable-media<2.0dev,>=1.2.0\n",
            "\u001b[?25l  Downloading https://files.pythonhosted.org/packages/f9/ad/bc80b0b33ccb5e21375ca1440da9dab99596948d5035e2f597fdcffb31f1/google_resumable_media-1.3.0-py2.py3-none-any.whl (75kB)\n",
            "\u001b[K     |████████████████████████████████| 81kB 7.1MB/s \n",
            "\u001b[?25hRequirement already satisfied, skipping upgrade: google-auth<2.0dev,>=1.11.0 in /usr/local/lib/python3.7/dist-packages (from google-cloud-storage) (1.30.0)\n",
            "Collecting google-cloud-core<2.0dev,>=1.4.1\n",
            "  Downloading https://files.pythonhosted.org/packages/ad/fc/6e8c449185cb8862af353c1164100ff75e32d55ba1de3baf9eaa01b7d2a9/google_cloud_core-1.6.0-py2.py3-none-any.whl\n",
            "Requirement already satisfied, skipping upgrade: requests<3.0.0dev,>=2.18.0 in /usr/local/lib/python3.7/dist-packages (from google-cloud-storage) (2.23.0)\n",
            "Collecting google-crc32c<2.0dev,>=1.0; python_version >= \"3.5\"\n",
            "  Downloading https://files.pythonhosted.org/packages/fc/ae/b6efa1019e18c6c791f0f5cd93b2ff40f8f06696dbf04db39ec0f5591b1e/google_crc32c-1.1.2-cp37-cp37m-manylinux2014_x86_64.whl\n",
            "Requirement already satisfied, skipping upgrade: six in /usr/local/lib/python3.7/dist-packages (from google-resumable-media<2.0dev,>=1.2.0->google-cloud-storage) (1.15.0)\n",
            "Requirement already satisfied, skipping upgrade: cachetools<5.0,>=2.0.0 in /usr/local/lib/python3.7/dist-packages (from google-auth<2.0dev,>=1.11.0->google-cloud-storage) (4.2.2)\n",
            "Requirement already satisfied, skipping upgrade: rsa<5,>=3.1.4; python_version >= \"3.6\" in /usr/local/lib/python3.7/dist-packages (from google-auth<2.0dev,>=1.11.0->google-cloud-storage) (4.7.2)\n",
            "Requirement already satisfied, skipping upgrade: setuptools>=40.3.0 in /usr/local/lib/python3.7/dist-packages (from google-auth<2.0dev,>=1.11.0->google-cloud-storage) (56.1.0)\n",
            "Requirement already satisfied, skipping upgrade: pyasn1-modules>=0.2.1 in /usr/local/lib/python3.7/dist-packages (from google-auth<2.0dev,>=1.11.0->google-cloud-storage) (0.2.8)\n",
            "Requirement already satisfied, skipping upgrade: google-api-core<2.0.0dev,>=1.21.0 in /usr/local/lib/python3.7/dist-packages (from google-cloud-core<2.0dev,>=1.4.1->google-cloud-storage) (1.26.3)\n",
            "Requirement already satisfied, skipping upgrade: certifi>=2017.4.17 in /usr/local/lib/python3.7/dist-packages (from requests<3.0.0dev,>=2.18.0->google-cloud-storage) (2020.12.5)\n",
            "Requirement already satisfied, skipping upgrade: idna<3,>=2.5 in /usr/local/lib/python3.7/dist-packages (from requests<3.0.0dev,>=2.18.0->google-cloud-storage) (2.10)\n",
            "Requirement already satisfied, skipping upgrade: chardet<4,>=3.0.2 in /usr/local/lib/python3.7/dist-packages (from requests<3.0.0dev,>=2.18.0->google-cloud-storage) (3.0.4)\n",
            "Requirement already satisfied, skipping upgrade: urllib3!=1.25.0,!=1.25.1,<1.26,>=1.21.1 in /usr/local/lib/python3.7/dist-packages (from requests<3.0.0dev,>=2.18.0->google-cloud-storage) (1.24.3)\n",
            "Requirement already satisfied, skipping upgrade: cffi>=1.0.0 in /usr/local/lib/python3.7/dist-packages (from google-crc32c<2.0dev,>=1.0; python_version >= \"3.5\"->google-resumable-media<2.0dev,>=1.2.0->google-cloud-storage) (1.14.5)\n",
            "Requirement already satisfied, skipping upgrade: pyasn1>=0.1.3 in /usr/local/lib/python3.7/dist-packages (from rsa<5,>=3.1.4; python_version >= \"3.6\"->google-auth<2.0dev,>=1.11.0->google-cloud-storage) (0.4.8)\n",
            "Requirement already satisfied, skipping upgrade: googleapis-common-protos<2.0dev,>=1.6.0 in /usr/local/lib/python3.7/dist-packages (from google-api-core<2.0.0dev,>=1.21.0->google-cloud-core<2.0dev,>=1.4.1->google-cloud-storage) (1.53.0)\n",
            "Requirement already satisfied, skipping upgrade: packaging>=14.3 in /usr/local/lib/python3.7/dist-packages (from google-api-core<2.0.0dev,>=1.21.0->google-cloud-core<2.0dev,>=1.4.1->google-cloud-storage) (20.9)\n",
            "Requirement already satisfied, skipping upgrade: protobuf>=3.12.0 in /usr/local/lib/python3.7/dist-packages (from google-api-core<2.0.0dev,>=1.21.0->google-cloud-core<2.0dev,>=1.4.1->google-cloud-storage) (3.12.4)\n",
            "Requirement already satisfied, skipping upgrade: pytz in /usr/local/lib/python3.7/dist-packages (from google-api-core<2.0.0dev,>=1.21.0->google-cloud-core<2.0dev,>=1.4.1->google-cloud-storage) (2018.9)\n",
            "Requirement already satisfied, skipping upgrade: pycparser in /usr/local/lib/python3.7/dist-packages (from cffi>=1.0.0->google-crc32c<2.0dev,>=1.0; python_version >= \"3.5\"->google-resumable-media<2.0dev,>=1.2.0->google-cloud-storage) (2.20)\n",
            "Requirement already satisfied, skipping upgrade: pyparsing>=2.0.2 in /usr/local/lib/python3.7/dist-packages (from packaging>=14.3->google-api-core<2.0.0dev,>=1.21.0->google-cloud-core<2.0dev,>=1.4.1->google-cloud-storage) (2.4.7)\n",
            "\u001b[31mERROR: google-cloud-bigquery 1.21.0 has requirement google-resumable-media!=0.4.0,<0.5.0dev,>=0.3.1, but you'll have google-resumable-media 1.3.0 which is incompatible.\u001b[0m\n",
            "Installing collected packages: google-crc32c, google-resumable-media, google-cloud-core, google-cloud-storage\n",
            "  Found existing installation: google-resumable-media 0.4.1\n",
            "    Uninstalling google-resumable-media-0.4.1:\n",
            "      Successfully uninstalled google-resumable-media-0.4.1\n",
            "  Found existing installation: google-cloud-core 1.0.3\n",
            "    Uninstalling google-cloud-core-1.0.3:\n",
            "      Successfully uninstalled google-cloud-core-1.0.3\n",
            "  Found existing installation: google-cloud-storage 1.18.1\n",
            "    Uninstalling google-cloud-storage-1.18.1:\n",
            "      Successfully uninstalled google-cloud-storage-1.18.1\n",
            "Successfully installed google-cloud-core-1.6.0 google-cloud-storage-1.38.0 google-crc32c-1.1.2 google-resumable-media-1.3.0\n"
          ],
          "name": "stdout"
        },
        {
          "output_type": "display_data",
          "data": {
            "application/vnd.colab-display-data+json": {
              "pip_warning": {
                "packages": [
                  "google"
                ]
              }
            }
          },
          "metadata": {
            "tags": []
          }
        }
      ]
    },
    {
      "cell_type": "code",
      "metadata": {
        "colab": {
          "resources": {
            "http://localhost:8080/nbextensions/google.colab/files.js": {
              "data": "Ly8gQ29weXJpZ2h0IDIwMTcgR29vZ2xlIExMQwovLwovLyBMaWNlbnNlZCB1bmRlciB0aGUgQXBhY2hlIExpY2Vuc2UsIFZlcnNpb24gMi4wICh0aGUgIkxpY2Vuc2UiKTsKLy8geW91IG1heSBub3QgdXNlIHRoaXMgZmlsZSBleGNlcHQgaW4gY29tcGxpYW5jZSB3aXRoIHRoZSBMaWNlbnNlLgovLyBZb3UgbWF5IG9idGFpbiBhIGNvcHkgb2YgdGhlIExpY2Vuc2UgYXQKLy8KLy8gICAgICBodHRwOi8vd3d3LmFwYWNoZS5vcmcvbGljZW5zZXMvTElDRU5TRS0yLjAKLy8KLy8gVW5sZXNzIHJlcXVpcmVkIGJ5IGFwcGxpY2FibGUgbGF3IG9yIGFncmVlZCB0byBpbiB3cml0aW5nLCBzb2Z0d2FyZQovLyBkaXN0cmlidXRlZCB1bmRlciB0aGUgTGljZW5zZSBpcyBkaXN0cmlidXRlZCBvbiBhbiAiQVMgSVMiIEJBU0lTLAovLyBXSVRIT1VUIFdBUlJBTlRJRVMgT1IgQ09ORElUSU9OUyBPRiBBTlkgS0lORCwgZWl0aGVyIGV4cHJlc3Mgb3IgaW1wbGllZC4KLy8gU2VlIHRoZSBMaWNlbnNlIGZvciB0aGUgc3BlY2lmaWMgbGFuZ3VhZ2UgZ292ZXJuaW5nIHBlcm1pc3Npb25zIGFuZAovLyBsaW1pdGF0aW9ucyB1bmRlciB0aGUgTGljZW5zZS4KCi8qKgogKiBAZmlsZW92ZXJ2aWV3IEhlbHBlcnMgZm9yIGdvb2dsZS5jb2xhYiBQeXRob24gbW9kdWxlLgogKi8KKGZ1bmN0aW9uKHNjb3BlKSB7CmZ1bmN0aW9uIHNwYW4odGV4dCwgc3R5bGVBdHRyaWJ1dGVzID0ge30pIHsKICBjb25zdCBlbGVtZW50ID0gZG9jdW1lbnQuY3JlYXRlRWxlbWVudCgnc3BhbicpOwogIGVsZW1lbnQudGV4dENvbnRlbnQgPSB0ZXh0OwogIGZvciAoY29uc3Qga2V5IG9mIE9iamVjdC5rZXlzKHN0eWxlQXR0cmlidXRlcykpIHsKICAgIGVsZW1lbnQuc3R5bGVba2V5XSA9IHN0eWxlQXR0cmlidXRlc1trZXldOwogIH0KICByZXR1cm4gZWxlbWVudDsKfQoKLy8gTWF4IG51bWJlciBvZiBieXRlcyB3aGljaCB3aWxsIGJlIHVwbG9hZGVkIGF0IGEgdGltZS4KY29uc3QgTUFYX1BBWUxPQURfU0laRSA9IDEwMCAqIDEwMjQ7CgpmdW5jdGlvbiBfdXBsb2FkRmlsZXMoaW5wdXRJZCwgb3V0cHV0SWQpIHsKICBjb25zdCBzdGVwcyA9IHVwbG9hZEZpbGVzU3RlcChpbnB1dElkLCBvdXRwdXRJZCk7CiAgY29uc3Qgb3V0cHV0RWxlbWVudCA9IGRvY3VtZW50LmdldEVsZW1lbnRCeUlkKG91dHB1dElkKTsKICAvLyBDYWNoZSBzdGVwcyBvbiB0aGUgb3V0cHV0RWxlbWVudCB0byBtYWtlIGl0IGF2YWlsYWJsZSBmb3IgdGhlIG5leHQgY2FsbAogIC8vIHRvIHVwbG9hZEZpbGVzQ29udGludWUgZnJvbSBQeXRob24uCiAgb3V0cHV0RWxlbWVudC5zdGVwcyA9IHN0ZXBzOwoKICByZXR1cm4gX3VwbG9hZEZpbGVzQ29udGludWUob3V0cHV0SWQpOwp9CgovLyBUaGlzIGlzIHJvdWdobHkgYW4gYXN5bmMgZ2VuZXJhdG9yIChub3Qgc3VwcG9ydGVkIGluIHRoZSBicm93c2VyIHlldCksCi8vIHdoZXJlIHRoZXJlIGFyZSBtdWx0aXBsZSBhc3luY2hyb25vdXMgc3RlcHMgYW5kIHRoZSBQeXRob24gc2lkZSBpcyBnb2luZwovLyB0byBwb2xsIGZvciBjb21wbGV0aW9uIG9mIGVhY2ggc3RlcC4KLy8gVGhpcyB1c2VzIGEgUHJvbWlzZSB0byBibG9jayB0aGUgcHl0aG9uIHNpZGUgb24gY29tcGxldGlvbiBvZiBlYWNoIHN0ZXAsCi8vIHRoZW4gcGFzc2VzIHRoZSByZXN1bHQgb2YgdGhlIHByZXZpb3VzIHN0ZXAgYXMgdGhlIGlucHV0IHRvIHRoZSBuZXh0IHN0ZXAuCmZ1bmN0aW9uIF91cGxvYWRGaWxlc0NvbnRpbnVlKG91dHB1dElkKSB7CiAgY29uc3Qgb3V0cHV0RWxlbWVudCA9IGRvY3VtZW50LmdldEVsZW1lbnRCeUlkKG91dHB1dElkKTsKICBjb25zdCBzdGVwcyA9IG91dHB1dEVsZW1lbnQuc3RlcHM7CgogIGNvbnN0IG5leHQgPSBzdGVwcy5uZXh0KG91dHB1dEVsZW1lbnQubGFzdFByb21pc2VWYWx1ZSk7CiAgcmV0dXJuIFByb21pc2UucmVzb2x2ZShuZXh0LnZhbHVlLnByb21pc2UpLnRoZW4oKHZhbHVlKSA9PiB7CiAgICAvLyBDYWNoZSB0aGUgbGFzdCBwcm9taXNlIHZhbHVlIHRvIG1ha2UgaXQgYXZhaWxhYmxlIHRvIHRoZSBuZXh0CiAgICAvLyBzdGVwIG9mIHRoZSBnZW5lcmF0b3IuCiAgICBvdXRwdXRFbGVtZW50Lmxhc3RQcm9taXNlVmFsdWUgPSB2YWx1ZTsKICAgIHJldHVybiBuZXh0LnZhbHVlLnJlc3BvbnNlOwogIH0pOwp9CgovKioKICogR2VuZXJhdG9yIGZ1bmN0aW9uIHdoaWNoIGlzIGNhbGxlZCBiZXR3ZWVuIGVhY2ggYXN5bmMgc3RlcCBvZiB0aGUgdXBsb2FkCiAqIHByb2Nlc3MuCiAqIEBwYXJhbSB7c3RyaW5nfSBpbnB1dElkIEVsZW1lbnQgSUQgb2YgdGhlIGlucHV0IGZpbGUgcGlja2VyIGVsZW1lbnQuCiAqIEBwYXJhbSB7c3RyaW5nfSBvdXRwdXRJZCBFbGVtZW50IElEIG9mIHRoZSBvdXRwdXQgZGlzcGxheS4KICogQHJldHVybiB7IUl0ZXJhYmxlPCFPYmplY3Q+fSBJdGVyYWJsZSBvZiBuZXh0IHN0ZXBzLgogKi8KZnVuY3Rpb24qIHVwbG9hZEZpbGVzU3RlcChpbnB1dElkLCBvdXRwdXRJZCkgewogIGNvbnN0IGlucHV0RWxlbWVudCA9IGRvY3VtZW50LmdldEVsZW1lbnRCeUlkKGlucHV0SWQpOwogIGlucHV0RWxlbWVudC5kaXNhYmxlZCA9IGZhbHNlOwoKICBjb25zdCBvdXRwdXRFbGVtZW50ID0gZG9jdW1lbnQuZ2V0RWxlbWVudEJ5SWQob3V0cHV0SWQpOwogIG91dHB1dEVsZW1lbnQuaW5uZXJIVE1MID0gJyc7CgogIGNvbnN0IHBpY2tlZFByb21pc2UgPSBuZXcgUHJvbWlzZSgocmVzb2x2ZSkgPT4gewogICAgaW5wdXRFbGVtZW50LmFkZEV2ZW50TGlzdGVuZXIoJ2NoYW5nZScsIChlKSA9PiB7CiAgICAgIHJlc29sdmUoZS50YXJnZXQuZmlsZXMpOwogICAgfSk7CiAgfSk7CgogIGNvbnN0IGNhbmNlbCA9IGRvY3VtZW50LmNyZWF0ZUVsZW1lbnQoJ2J1dHRvbicpOwogIGlucHV0RWxlbWVudC5wYXJlbnRFbGVtZW50LmFwcGVuZENoaWxkKGNhbmNlbCk7CiAgY2FuY2VsLnRleHRDb250ZW50ID0gJ0NhbmNlbCB1cGxvYWQnOwogIGNvbnN0IGNhbmNlbFByb21pc2UgPSBuZXcgUHJvbWlzZSgocmVzb2x2ZSkgPT4gewogICAgY2FuY2VsLm9uY2xpY2sgPSAoKSA9PiB7CiAgICAgIHJlc29sdmUobnVsbCk7CiAgICB9OwogIH0pOwoKICAvLyBXYWl0IGZvciB0aGUgdXNlciB0byBwaWNrIHRoZSBmaWxlcy4KICBjb25zdCBmaWxlcyA9IHlpZWxkIHsKICAgIHByb21pc2U6IFByb21pc2UucmFjZShbcGlja2VkUHJvbWlzZSwgY2FuY2VsUHJvbWlzZV0pLAogICAgcmVzcG9uc2U6IHsKICAgICAgYWN0aW9uOiAnc3RhcnRpbmcnLAogICAgfQogIH07CgogIGNhbmNlbC5yZW1vdmUoKTsKCiAgLy8gRGlzYWJsZSB0aGUgaW5wdXQgZWxlbWVudCBzaW5jZSBmdXJ0aGVyIHBpY2tzIGFyZSBub3QgYWxsb3dlZC4KICBpbnB1dEVsZW1lbnQuZGlzYWJsZWQgPSB0cnVlOwoKICBpZiAoIWZpbGVzKSB7CiAgICByZXR1cm4gewogICAgICByZXNwb25zZTogewogICAgICAgIGFjdGlvbjogJ2NvbXBsZXRlJywKICAgICAgfQogICAgfTsKICB9CgogIGZvciAoY29uc3QgZmlsZSBvZiBmaWxlcykgewogICAgY29uc3QgbGkgPSBkb2N1bWVudC5jcmVhdGVFbGVtZW50KCdsaScpOwogICAgbGkuYXBwZW5kKHNwYW4oZmlsZS5uYW1lLCB7Zm9udFdlaWdodDogJ2JvbGQnfSkpOwogICAgbGkuYXBwZW5kKHNwYW4oCiAgICAgICAgYCgke2ZpbGUudHlwZSB8fCAnbi9hJ30pIC0gJHtmaWxlLnNpemV9IGJ5dGVzLCBgICsKICAgICAgICBgbGFzdCBtb2RpZmllZDogJHsKICAgICAgICAgICAgZmlsZS5sYXN0TW9kaWZpZWREYXRlID8gZmlsZS5sYXN0TW9kaWZpZWREYXRlLnRvTG9jYWxlRGF0ZVN0cmluZygpIDoKICAgICAgICAgICAgICAgICAgICAgICAgICAgICAgICAgICAgJ24vYSd9IC0gYCkpOwogICAgY29uc3QgcGVyY2VudCA9IHNwYW4oJzAlIGRvbmUnKTsKICAgIGxpLmFwcGVuZENoaWxkKHBlcmNlbnQpOwoKICAgIG91dHB1dEVsZW1lbnQuYXBwZW5kQ2hpbGQobGkpOwoKICAgIGNvbnN0IGZpbGVEYXRhUHJvbWlzZSA9IG5ldyBQcm9taXNlKChyZXNvbHZlKSA9PiB7CiAgICAgIGNvbnN0IHJlYWRlciA9IG5ldyBGaWxlUmVhZGVyKCk7CiAgICAgIHJlYWRlci5vbmxvYWQgPSAoZSkgPT4gewogICAgICAgIHJlc29sdmUoZS50YXJnZXQucmVzdWx0KTsKICAgICAgfTsKICAgICAgcmVhZGVyLnJlYWRBc0FycmF5QnVmZmVyKGZpbGUpOwogICAgfSk7CiAgICAvLyBXYWl0IGZvciB0aGUgZGF0YSB0byBiZSByZWFkeS4KICAgIGxldCBmaWxlRGF0YSA9IHlpZWxkIHsKICAgICAgcHJvbWlzZTogZmlsZURhdGFQcm9taXNlLAogICAgICByZXNwb25zZTogewogICAgICAgIGFjdGlvbjogJ2NvbnRpbnVlJywKICAgICAgfQogICAgfTsKCiAgICAvLyBVc2UgYSBjaHVua2VkIHNlbmRpbmcgdG8gYXZvaWQgbWVzc2FnZSBzaXplIGxpbWl0cy4gU2VlIGIvNjIxMTU2NjAuCiAgICBsZXQgcG9zaXRpb24gPSAwOwogICAgd2hpbGUgKHBvc2l0aW9uIDwgZmlsZURhdGEuYnl0ZUxlbmd0aCkgewogICAgICBjb25zdCBsZW5ndGggPSBNYXRoLm1pbihmaWxlRGF0YS5ieXRlTGVuZ3RoIC0gcG9zaXRpb24sIE1BWF9QQVlMT0FEX1NJWkUpOwogICAgICBjb25zdCBjaHVuayA9IG5ldyBVaW50OEFycmF5KGZpbGVEYXRhLCBwb3NpdGlvbiwgbGVuZ3RoKTsKICAgICAgcG9zaXRpb24gKz0gbGVuZ3RoOwoKICAgICAgY29uc3QgYmFzZTY0ID0gYnRvYShTdHJpbmcuZnJvbUNoYXJDb2RlLmFwcGx5KG51bGwsIGNodW5rKSk7CiAgICAgIHlpZWxkIHsKICAgICAgICByZXNwb25zZTogewogICAgICAgICAgYWN0aW9uOiAnYXBwZW5kJywKICAgICAgICAgIGZpbGU6IGZpbGUubmFtZSwKICAgICAgICAgIGRhdGE6IGJhc2U2NCwKICAgICAgICB9LAogICAgICB9OwogICAgICBwZXJjZW50LnRleHRDb250ZW50ID0KICAgICAgICAgIGAke01hdGgucm91bmQoKHBvc2l0aW9uIC8gZmlsZURhdGEuYnl0ZUxlbmd0aCkgKiAxMDApfSUgZG9uZWA7CiAgICB9CiAgfQoKICAvLyBBbGwgZG9uZS4KICB5aWVsZCB7CiAgICByZXNwb25zZTogewogICAgICBhY3Rpb246ICdjb21wbGV0ZScsCiAgICB9CiAgfTsKfQoKc2NvcGUuZ29vZ2xlID0gc2NvcGUuZ29vZ2xlIHx8IHt9OwpzY29wZS5nb29nbGUuY29sYWIgPSBzY29wZS5nb29nbGUuY29sYWIgfHwge307CnNjb3BlLmdvb2dsZS5jb2xhYi5fZmlsZXMgPSB7CiAgX3VwbG9hZEZpbGVzLAogIF91cGxvYWRGaWxlc0NvbnRpbnVlLAp9Owp9KShzZWxmKTsK",
              "ok": true,
              "headers": [
                [
                  "content-type",
                  "application/javascript"
                ]
              ],
              "status": 200,
              "status_text": ""
            }
          },
          "base_uri": "https://localhost:8080/",
          "height": 89
        },
        "id": "eVXTQ4A_G4_w",
        "outputId": "5e2a64d6-7adb-4cb7-ab36-2e47bd908a55"
      },
      "source": [
        "from google.colab import files\n",
        "\n",
        "uploaded = files.upload()\n",
        "\n",
        "for fn in uploaded.keys():\n",
        "  service_account = fn\n",
        "  print('User uploaded file \"{name}\" with length {length} bytes'.format(\n",
        "      name=fn, length=len(uploaded[fn])))"
      ],
      "execution_count": null,
      "outputs": [
        {
          "output_type": "display_data",
          "data": {
            "text/html": [
              "\n",
              "     <input type=\"file\" id=\"files-bdc64b60-b01c-456f-821d-2608d2401e4b\" name=\"files[]\" multiple disabled\n",
              "        style=\"border:none\" />\n",
              "     <output id=\"result-bdc64b60-b01c-456f-821d-2608d2401e4b\">\n",
              "      Upload widget is only available when the cell has been executed in the\n",
              "      current browser session. Please rerun this cell to enable.\n",
              "      </output>\n",
              "      <script src=\"/nbextensions/google.colab/files.js\"></script> "
            ],
            "text/plain": [
              "<IPython.core.display.HTML object>"
            ]
          },
          "metadata": {
            "tags": []
          }
        },
        {
          "output_type": "stream",
          "text": [
            "Saving adil-gcp-13783a2acc15.json to adil-gcp-13783a2acc15.json\n",
            "User uploaded file \"adil-gcp-13783a2acc15.json\" with length 2293 bytes\n"
          ],
          "name": "stdout"
        }
      ]
    },
    {
      "cell_type": "code",
      "metadata": {
        "id": "Z_lHNDWNHr6J"
      },
      "source": [
        "import os\n",
        "\n",
        "os.environ['GOOGLE_APPLICATION_CREDENTIALS'] = service_account"
      ],
      "execution_count": null,
      "outputs": []
    },
    {
      "cell_type": "code",
      "metadata": {
        "colab": {
          "base_uri": "https://localhost:8080/"
        },
        "id": "3M4ZrnGLH41G",
        "outputId": "64f9a672-17e7-4a38-83a3-a1acc38e2233"
      },
      "source": [
        "!echo $GOOGLE_APPLICATION_CREDENTIALS"
      ],
      "execution_count": null,
      "outputs": [
        {
          "output_type": "stream",
          "text": [
            "adil-gcp-13783a2acc15.json\n"
          ],
          "name": "stdout"
        }
      ]
    },
    {
      "cell_type": "markdown",
      "metadata": {
        "id": "8CHUv4xTIITd"
      },
      "source": [
        "### Download the model"
      ]
    },
    {
      "cell_type": "markdown",
      "metadata": {
        "id": "NZEg4fSBJhwz"
      },
      "source": [
        "### Download the zip model file"
      ]
    },
    {
      "cell_type": "code",
      "metadata": {
        "id": "25gwdBYiLsxk"
      },
      "source": [
        "!mkdir saved_model"
      ],
      "execution_count": null,
      "outputs": []
    },
    {
      "cell_type": "code",
      "metadata": {
        "id": "ZE3btFgXIrhf"
      },
      "source": [
        "from google.cloud import storage\n",
        "\n",
        "def download_model(bucket_name, source_name, destination_name):\n",
        "  client = storage.Client()\n",
        "  bucket = client.bucket(bucket_name)\n",
        "\n",
        "  blob = bucket.blob(source_name)\n",
        "  blob.download_to_filename(destination_name)\n",
        "  print(\"File {} Successfully Downloaded to {}\".format(source_name, destination_name))"
      ],
      "execution_count": null,
      "outputs": []
    },
    {
      "cell_type": "code",
      "metadata": {
        "colab": {
          "base_uri": "https://localhost:8080/"
        },
        "id": "k1trzT2pLblM",
        "outputId": "54a0f0b2-ec79-4107-9a41-bbea26b6709a"
      },
      "source": [
        "download_model(\"adil-model\", \"adil_model_v2.zip\", \"saved_model/adil_model_v2.zip\")"
      ],
      "execution_count": null,
      "outputs": [
        {
          "output_type": "stream",
          "text": [
            "File adil_model_v2.zip Successfully Downloaded to saved_model/adil_model_v2.zip\n"
          ],
          "name": "stdout"
        }
      ]
    },
    {
      "cell_type": "code",
      "metadata": {
        "colab": {
          "base_uri": "https://localhost:8080/"
        },
        "id": "NExVHIXBL8t3",
        "outputId": "3da7413a-6fa3-4c1d-aefe-4426eb6bac3f"
      },
      "source": [
        "!unzip saved_model/adil_model_v2.zip"
      ],
      "execution_count": null,
      "outputs": [
        {
          "output_type": "stream",
          "text": [
            "Archive:  saved_model/adil_model_v2.zip\n",
            "   creating: saved_model/adil_model/\n",
            "  inflating: saved_model/adil_model/saved_model.pb  \n",
            "   creating: saved_model/adil_model/variables/\n",
            "  inflating: saved_model/adil_model/variables/variables.data-00000-of-00001  \n",
            "  inflating: saved_model/adil_model/variables/variables.index  \n",
            "  inflating: saved_model/adil_model/keras_metadata.pb  \n",
            "   creating: saved_model/adil_model/assets/\n"
          ],
          "name": "stdout"
        }
      ]
    },
    {
      "cell_type": "markdown",
      "metadata": {
        "id": "Ais_Hev3qZhV"
      },
      "source": [
        "### Download Sample TXT File"
      ]
    },
    {
      "cell_type": "code",
      "metadata": {
        "colab": {
          "base_uri": "https://localhost:8080/"
        },
        "id": "pBcKV-sAqXP9",
        "outputId": "aeec1bcf-b135-4c12-e17c-3e9df965f7b2"
      },
      "source": [
        "download_model(\"adil-plaintext\", \"11e44c4ebb124b60b246313231363135.0.txt\", \"sample.txt\")"
      ],
      "execution_count": null,
      "outputs": [
        {
          "output_type": "stream",
          "text": [
            "File 11e44c4ebb124b60b246313231363135.0.txt Successfully Downloaded to sample.txt\n"
          ],
          "name": "stdout"
        }
      ]
    },
    {
      "cell_type": "markdown",
      "metadata": {
        "id": "rFfK5lG4yT3I"
      },
      "source": [
        "## Predict Words"
      ]
    },
    {
      "cell_type": "markdown",
      "metadata": {
        "id": "4EPG8evozuKO"
      },
      "source": [
        "### Load Model"
      ]
    },
    {
      "cell_type": "code",
      "metadata": {
        "colab": {
          "base_uri": "https://localhost:8080/"
        },
        "id": "mtzftFnvMAOa",
        "outputId": "4110ef8e-2d65-4c9c-d76e-3bcf87deec56"
      },
      "source": [
        "import tensorflow as tf\n",
        "import numpy as np\n",
        "\n",
        "print(tf.__version__)"
      ],
      "execution_count": null,
      "outputs": [
        {
          "output_type": "stream",
          "text": [
            "2.5.0\n"
          ],
          "name": "stdout"
        }
      ]
    },
    {
      "cell_type": "code",
      "metadata": {
        "id": "WtUI2HEOzYwd"
      },
      "source": [
        "model = tf.keras.models.load_model('saved_model/adil_model')"
      ],
      "execution_count": null,
      "outputs": []
    },
    {
      "cell_type": "code",
      "metadata": {
        "colab": {
          "base_uri": "https://localhost:8080/"
        },
        "id": "bZ_m0wvyzjkq",
        "outputId": "7d1acbad-0b92-4243-82d5-06327beaf12f"
      },
      "source": [
        "model.summary()"
      ],
      "execution_count": null,
      "outputs": [
        {
          "output_type": "stream",
          "text": [
            "Model: \"sequential_10\"\n",
            "_________________________________________________________________\n",
            "Layer (type)                 Output Shape              Param #   \n",
            "=================================================================\n",
            "text_vectorization_11 (TextV (None, None)              0         \n",
            "_________________________________________________________________\n",
            "embedding_10 (Embedding)     (None, None, 32)          320000    \n",
            "_________________________________________________________________\n",
            "conv1d_10 (Conv1D)           (None, None, 32)          1056      \n",
            "_________________________________________________________________\n",
            "global_average_pooling1d_10  (None, 32)                0         \n",
            "_________________________________________________________________\n",
            "dense_20 (Dense)             (None, 128)               4224      \n",
            "_________________________________________________________________\n",
            "dense_21 (Dense)             (None, 5)                 645       \n",
            "=================================================================\n",
            "Total params: 325,925\n",
            "Trainable params: 325,925\n",
            "Non-trainable params: 0\n",
            "_________________________________________________________________\n"
          ],
          "name": "stdout"
        }
      ]
    },
    {
      "cell_type": "markdown",
      "metadata": {
        "id": "McZGyyrozo21"
      },
      "source": [
        "### Predict The String"
      ]
    },
    {
      "cell_type": "code",
      "metadata": {
        "colab": {
          "base_uri": "https://localhost:8080/"
        },
        "id": "728Sp55Yz03O",
        "outputId": "958a4437-1550-4733-ba66-d26f5f8a6be7"
      },
      "source": [
        "word = \"TATA CARA PENGUNDURAN DIRI KEPALA DAERAH, WAKIL KEPALA DAERAH,\\\n",
        "DAN PEGAWAI NEGERI YANG AKAN MENJADI BAKAL CALON ANGGOTA DPR,\\\n",
        "DPD, DPRD PROVINSI, DAN DPRD KABUPATEN/KOTA, SERTA PELAKSANAAN\\\n",
        "CUTI PEJABAT NEGARA DALAM KAMPANYE PEMILU\"\n",
        "\n",
        "prediction = model.predict(np.array([word]))\n",
        "prediction"
      ],
      "execution_count": null,
      "outputs": [
        {
          "output_type": "execute_result",
          "data": {
            "text/plain": [
              "array([[1.5225636e-23, 3.0849716e-01, 6.9150287e-01, 4.7737520e-18,\n",
              "        1.5663561e-12]], dtype=float32)"
            ]
          },
          "metadata": {
            "tags": []
          },
          "execution_count": 13
        }
      ]
    },
    {
      "cell_type": "markdown",
      "metadata": {
        "id": "m8e6q553r582"
      },
      "source": [
        "## HTML Generator"
      ]
    },
    {
      "cell_type": "markdown",
      "metadata": {
        "id": "quqz2zBayKEw"
      },
      "source": [
        "### Load TXT File"
      ]
    },
    {
      "cell_type": "code",
      "metadata": {
        "id": "VGl64i8F0kiL",
        "colab": {
          "base_uri": "https://localhost:8080/"
        },
        "outputId": "2194eb82-56ed-415a-dac0-1c7c0486e18f"
      },
      "source": [
        "with open(\"sample.txt\", 'r') as f:\n",
        "  content = f.read()\n",
        "  content_data = content.split(\"\\n\\n\")\n",
        "\n",
        "np_content = np.array(content_data)\n",
        "np_content = np.char.rstrip(np_content)\n",
        "np_content = np.char.lstrip(np_content)\n",
        "np_content[:5]"
      ],
      "execution_count": null,
      "outputs": [
        {
          "output_type": "execute_result",
          "data": {
            "text/plain": [
              "array(['PERATURAN PRESIDEN REPUBLIK INDONESIA \\nNOMOR 20 TAHUN 2011',\n",
              "       'TENTANG',\n",
              "       'PERUBAHAN ATAS PERATURAN PRESIDEN NOMOR 96 TAHUN 2006 \\nTENTANG TUNJANGAN DAN HAK-HAK LAINNYA BAGI HAKIM AD HOC \\nPADA PENGADILAN HUBUNGAN INDUSTRIAL\\n \\nDENGAN RAHMAT TUHAN YANG MAHA ESA \\nPRESIDEN REPUBLIK INDONESIA,',\n",
              "       'Menimbang   :   bahwa dalam upaya peningkatan kinerja bagi Hakim Ad Hoc di \\nlingkungan Pengadilan Hubungan Industrial pada Pengadilan Negeri \\ndan Mahkamah Agung, maka dipandang perlu untuk mengatur \\nkembali besarnya tunjangan bagi Hakim Ad Hoc pada Pengadilan \\nHubungan Industrial, dengan Peraturan Presiden;',\n",
              "       'Mengingat    :  1.Pasal 4 ayat (1) Undang-Undang Dasar Negara Republik \\nIndonesia Tahun 1945;'],\n",
              "      dtype='<U309')"
            ]
          },
          "metadata": {
            "tags": []
          },
          "execution_count": 62
        }
      ]
    },
    {
      "cell_type": "code",
      "metadata": {
        "id": "01ZMLHjZtyv0"
      },
      "source": [
        "labels = [\"no_label\", \"body\", \"subtitle\", \"title\", \"section\"]\n",
        "content_label = {}\n",
        "for content in np_content:\n",
        "  if content != '':\n",
        "    prediction = model.predict(np.array([content]))\n",
        "    tensor = tf.math.argmax(prediction, axis=1)\n",
        "    index = tf.keras.backend.get_value(tensor[0])\n",
        "    content_label[content] = labels[index]"
      ],
      "execution_count": null,
      "outputs": []
    },
    {
      "cell_type": "code",
      "metadata": {
        "id": "MBKU_4qubqty",
        "colab": {
          "base_uri": "https://localhost:8080/"
        },
        "outputId": "71a0e5f8-908a-44fe-a823-9278d4e35e37"
      },
      "source": [
        "from bs4 import BeautifulSoup\n",
        "\n",
        "head_template = []\n",
        "body_template = []\n",
        "section = 0\n",
        "title_count = 1\n",
        "\n",
        "for content in np_content:\n",
        "  if content != '':\n",
        "    if title_count == 1: \n",
        "      head_template.append(\"  \" + content.replace(\"\\n\", \"\"))\n",
        "      body_template.append(\"<h1 data-block-type=\\\"title\\\"> \\n\"+content.replace(\"\\n\", \"\")+\"\\n </h1>\")\n",
        "      if content_label[content] == \"title\":\n",
        "        title_count += 1\n",
        "\n",
        "    else:\n",
        "      if content_label[content] == \"title\" : \n",
        "          body_template.append(\"<h1 data-block-type=\\\"title\\\"> \\n\"+content.replace(\"\\n\", \"\")+\"\\n </h1>\")\n",
        "\n",
        "      elif content_label[content] == \"section\" and section == 0: \n",
        "          body_template.append(\"<section> \\n <h1> \\n\"+content.replace(\"\\n\", \"\")+\"\\n </h1>\")\n",
        "          section = 1\n",
        "\n",
        "      elif content_label[content] == \"section\" and section == 1:\n",
        "          body_template.append(\"</section> \\n <section> \\n <h1> \\n\"+content.replace(\"\\n\", \"\")+\"\\n </h1>\")\n",
        "\n",
        "      elif content_label[content] == \"body\" :\n",
        "          body_template.append(\"<p> \\n\" + content.replace(\"\\n\", \"\\n    \") + \"\\n </p>\")\n",
        "\n",
        "      elif content_label[content] == \"subtitle\" :\n",
        "          body_template.append(\"<h1 data-block-type=\\\"subtitle\\\"> \\n\" + content.replace(\"\\n\", \"\\n    \") + \"\\n </h1>\")\n",
        "\n",
        "      elif content_label[content] == \"no_label\" :\n",
        "          body_template.append(\"<p> \\n\" + content.replace(\"\\n\", \"\\n      \") + \"\\n </p>\")\n",
        "\n",
        "\n",
        "html_template = [\"<html> \\n <head> \\n <title>\"] + head_template + [\"</title> \\n <meta name=\\\"status\\\" content=\\\"aktif\\\"/> \\n </head> \\n <body> \\n <article>\"] + body_template + [\"\\n </article> \\n </body> \\n </html>\"]\n",
        "html_template = '\\n '.join(html_template)\n",
        "\n",
        "soup = BeautifulSoup(html_template)\n",
        "html_template = soup.prettify()\n",
        "\n",
        "print(html_template)"
      ],
      "execution_count": null,
      "outputs": [
        {
          "output_type": "stream",
          "text": [
            "<html>\n",
            " <head>\n",
            "  <title>\n",
            "   PERATURAN PRESIDEN REPUBLIK INDONESIA NOMOR 20 TAHUN 2011\n",
            "  </title>\n",
            "  <meta content=\"aktif\" name=\"status\"/>\n",
            " </head>\n",
            " <body>\n",
            "  <article>\n",
            "   <h1 data-block-type=\"title\">\n",
            "    PERATURAN PRESIDEN REPUBLIK INDONESIA NOMOR 20 TAHUN 2011\n",
            "   </h1>\n",
            "   <p>\n",
            "    TENTANG\n",
            "   </p>\n",
            "   <h1 data-block-type=\"subtitle\">\n",
            "    PERUBAHAN ATAS PERATURAN PRESIDEN NOMOR 96 TAHUN 2006 \n",
            "    TENTANG TUNJANGAN DAN HAK-HAK LAINNYA BAGI HAKIM AD HOC \n",
            "    PADA PENGADILAN HUBUNGAN INDUSTRIAL\n",
            "     \n",
            "    DENGAN RAHMAT TUHAN YANG MAHA ESA \n",
            "    PRESIDEN REPUBLIK INDONESIA,\n",
            "   </h1>\n",
            "   <p>\n",
            "    Menimbang   :   bahwa dalam upaya peningkatan kinerja bagi Hakim Ad Hoc di \n",
            "    lingkungan Pengadilan Hubungan Industrial pada Pengadilan Negeri \n",
            "    dan Mahkamah Agung, maka dipandang perlu untuk mengatur \n",
            "    kembali besarnya tunjangan bagi Hakim Ad Hoc pada Pengadilan \n",
            "    Hubungan Industrial, dengan Peraturan Presiden;\n",
            "   </p>\n",
            "   <p>\n",
            "    Mengingat    :  1.Pasal 4 ayat (1) Undang-Undang Dasar Negara Republik \n",
            "    Indonesia Tahun 1945;\n",
            "   </p>\n",
            "   <p>\n",
            "    2. Undang-Undang Nomor 2 Tahun 2004 tentang Penyelesaian \n",
            "    Perselisihan Hubungan Industrial (Lembaran Negara Republik \n",
            "    Indonesia Tahun 2004 Nomor 6, Tambahan Lembaran Negara \n",
            "    Republik Indonesia Nomor 4356);\n",
            "   </p>\n",
            "   <p>\n",
            "    3. Peraturan Presiden Nomor 96 Tahun 2006 tentang Tunjangan \n",
            "    Dan Hak-Hak Lainnya Bagi Hakim Ad Hoc Pada Pengadilan \n",
            "    Hubungan Industrial;\n",
            "   </p>\n",
            "   <p>\n",
            "    MEMUTUSKAN :\n",
            "   </p>\n",
            "   <p>\n",
            "    Menetapkan  :  PERATURAN PRESIDEN TENTANG PERUBAHAN ATAS \n",
            "    PERATURAN PRESIDEN NOMOR 96 TAHUN 2006 TENTANG \n",
            "    TUNJANGAN DAN HAK-HAK LAINNYA BAGI HAKIM AD \n",
            "    HOC PADA PENGADILAN HUBUNGAN INDUSTRIAL.\n",
            "   </p>\n",
            "   <section>\n",
            "    <h1>\n",
            "     Pasal I\n",
            "    </h1>\n",
            "    <p>\n",
            "     Mengubah ketentuan Pasal 3 dalam Peraturan Presiden Nomor 96 \n",
            "    Tahun 2006 tentang Tunjangan Dan Hak-Hak Lainnya Bagi Hakim \n",
            "    Ad Hoc Pada Pengadilan Hubungan Industrial, sehingga berbunyi \n",
            "    sebagai berikut :\n",
            "    </p>\n",
            "   </section>\n",
            "   <section>\n",
            "    <h1>\n",
            "     Pasal 3\n",
            "    </h1>\n",
            "    <p>\n",
            "     Besarnya tunjangan Hakim Ad Hoc Pada Pengadilan Hubungan \n",
            "    Industrial sebagaimana dimaksud dalam Pasal 2 adalah sebagai \n",
            "    berikut :\n",
            "    </p>\n",
            "    <p>\n",
            "     a. Hakim Ad Hoc Pada Pengadilan Hubungan Industrial tingkat \n",
            "    Pertama sebesar Rp 5.500.000,00 (lima juta lima ratus ribu \n",
            "    rupiah);\n",
            "    </p>\n",
            "    <p>\n",
            "     b. Hakim Ad Hoc Pada Pengadilan Hubungan Industrial tingkat \n",
            "    Kasasi sebesar Rp 12.000.000,00 (dua belas juta rupiah).\"\n",
            "    </p>\n",
            "    <p>\n",
            "     Pasal II\n",
            "    </p>\n",
            "    <p>\n",
            "     Peraturan Presiden ini mulai berlaku pada tanggal ditetapkan.\n",
            "    </p>\n",
            "    <p>\n",
            "     Ditetapkan di  Jakarta\n",
            "    </p>\n",
            "    <p>\n",
            "     pada tanggal  22 Maret 2011\n",
            "    </p>\n",
            "    <p>\n",
            "     PRESIDEN REPUBLIK INDONESIA,\n",
            "    </p>\n",
            "    <p>\n",
            "     ttd.\n",
            "    </p>\n",
            "    <p>\n",
            "     DR. H. SUSILO BAMBANG YUDHOYONO\n",
            "    </p>\n",
            "   </section>\n",
            "  </article>\n",
            " </body>\n",
            "</html>\n"
          ],
          "name": "stdout"
        }
      ]
    },
    {
      "cell_type": "markdown",
      "metadata": {
        "id": "S97mWf7CoG2m"
      },
      "source": [
        "###Save HTML"
      ]
    },
    {
      "cell_type": "code",
      "metadata": {
        "id": "5jbdz4vh7mRu"
      },
      "source": [
        "with open(\"sample.html\", \"w\") as file:\n",
        "    file.write(str(html_template))"
      ],
      "execution_count": null,
      "outputs": []
    },
    {
      "cell_type": "markdown",
      "metadata": {
        "id": "YS5STGcA0UK8"
      },
      "source": [
        "### Upload to Bucket\n"
      ]
    },
    {
      "cell_type": "code",
      "metadata": {
        "id": "DJy3vlUi0SxI"
      },
      "source": [
        "from google.cloud import storage\n",
        "\n",
        "def upload_html(bucket_name, source_name, destination_name):\n",
        "  storage_client = storage.Client()\n",
        "  bucket = storage_client.bucket(bucket_name)\n",
        "  blob = bucket.blob(destination_name)\n",
        "\n",
        "  blob.upload_from_filename(source_name)\n",
        "  print(\"File {} uploaded to Bucket: {}, with filename: {}\".format(source_name, \n",
        "                                                                   bucket_name, \n",
        "                                                                   destination_name))"
      ],
      "execution_count": null,
      "outputs": []
    },
    {
      "cell_type": "code",
      "metadata": {
        "id": "wsr9P2i30hjx"
      },
      "source": [
        "upload_html(\"sample.html\", \"adil-dataset\", \"peraturan.html\")"
      ],
      "execution_count": null,
      "outputs": []
    }
  ]
}